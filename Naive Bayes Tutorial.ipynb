{
 "cells": [
  {
   "cell_type": "code",
   "execution_count": 2,
   "metadata": {},
   "outputs": [],
   "source": [
    "import matplotlib.pyplot as plt\n",
    "import numpy as np\n",
    "import seaborn as sns\n",
    "import pandas as pd"
   ]
  },
  {
   "cell_type": "code",
   "execution_count": 3,
   "metadata": {},
   "outputs": [],
   "source": [
    "Weather = [ \"sunny\", \"rainy\", \"sunny\", \"sunny\", \"sunny\", \"rainy\",\" rainy\", \"sunny\", \"sunny\", \"rainy\"]\n",
    "Car = [ \"working\", \"broken\", \"working\", \"working\", \"working\", \"broken\", \"broken\", \"working\", \"broken\", \"broken\" ]\n",
    "Class = [ \"go-out\", \"go-out\", \"go-out\", \"go-out\", \"go-out\", \"stay-home\", \"stay-home\", \"stay-home\", \"stay-home\", \"stay-home\" ]"
   ]
  },
  {
   "cell_type": "code",
   "execution_count": 4,
   "metadata": {},
   "outputs": [],
   "source": [
    "weather = []\n",
    "for i in Weather:\n",
    "    if i == 'sunny':\n",
    "        weather.append(1)\n",
    "        \n",
    "    else:\n",
    "        weather.append(0)\n",
    "\n",
    "car = []\n",
    "\n",
    "for i in Car:\n",
    "    if i == 'working':\n",
    "        car.append(1)\n",
    "    else:\n",
    "        car.append(0)\n",
    "clas = []\n",
    "\n",
    "for i in Class:\n",
    "    if i == 'go-out':\n",
    "        clas.append(1)\n",
    "    else:\n",
    "        clas.append(0)"
   ]
  },
  {
   "cell_type": "code",
   "execution_count": 5,
   "metadata": {},
   "outputs": [
    {
     "name": "stdout",
     "output_type": "stream",
     "text": [
      "1 1 1\n",
      "0 0 1\n",
      "1 1 1\n",
      "1 1 1\n",
      "1 1 1\n",
      "0 0 0\n",
      "0 0 0\n",
      "1 1 0\n",
      "1 0 0\n",
      "0 0 0\n"
     ]
    }
   ],
   "source": [
    "for i, j, k in zip(weather, car, clas):\n",
    "    \n",
    "    print(i, j, k)"
   ]
  },
  {
   "cell_type": "code",
   "execution_count": 39,
   "metadata": {},
   "outputs": [],
   "source": [
    "prop_go_out = clas.count(1) / (clas.count(0) + clas.count(1))\n",
    "prop_stay_home = clas.count(0) / (clas.count(0) + clas.count(1))"
   ]
  },
  {
   "cell_type": "code",
   "execution_count": 32,
   "metadata": {},
   "outputs": [],
   "source": [
    "sunny_go_out = 0\n",
    "rainy_go_out = 0\n",
    "sunny_stay_home = 0\n",
    "rainy_stay_home = 0\n",
    "for (i,j) in zip(weather, clas):\n",
    "    if i == 1 and j == 1:\n",
    "        sunny_go_out += 1\n",
    "    elif i == 0 and j == 1:\n",
    "        rainy_go_out += 1\n",
    "    elif i == 1 and j == 0:\n",
    "        sunny_stay_home += 1\n",
    "    else:\n",
    "        rainy_stay_home += 1"
   ]
  },
  {
   "cell_type": "code",
   "execution_count": 33,
   "metadata": {},
   "outputs": [],
   "source": [
    "prop_sunny_go_out = sunny_go_out / clas.count(1)\n",
    "\n",
    "prop_rainy_go_out = rainy_go_out / clas.count(1)\n",
    "\n",
    "prop_sunny_stay_home = sunny_stay_home / clas.count(0)\n",
    "\n",
    "prop_rainy_stay_home = rainy_stay_home / clas.count(0)"
   ]
  },
  {
   "cell_type": "code",
   "execution_count": 34,
   "metadata": {},
   "outputs": [
    {
     "name": "stdout",
     "output_type": "stream",
     "text": [
      "0.8\n",
      "0.2\n",
      "0.4\n",
      "0.6\n"
     ]
    }
   ],
   "source": [
    "print(prop_sunny_go_out)\n",
    "print(prop_rainy_go_out)\n",
    "print(prop_sunny_stay_home)\n",
    "print(prop_rainy_stay_home)"
   ]
  },
  {
   "cell_type": "code",
   "execution_count": 35,
   "metadata": {},
   "outputs": [],
   "source": [
    "working_go_out = 0\n",
    "broken_go_out = 0\n",
    "working_stay_home = 0\n",
    "broken_stay_home = 0\n",
    "for (i,j) in zip(car, clas):\n",
    "    if i == 1 and j == 1:\n",
    "        working_go_out += 1\n",
    "    elif i == 0 and j == 1:\n",
    "        broken_go_out += 1\n",
    "    elif i == 1 and j == 0:\n",
    "        working_stay_home += 1\n",
    "    else:\n",
    "        broken_stay_home += 1"
   ]
  },
  {
   "cell_type": "code",
   "execution_count": 40,
   "metadata": {},
   "outputs": [
    {
     "name": "stdout",
     "output_type": "stream",
     "text": [
      "0.8\n",
      "0.2\n",
      "0.2\n",
      "0.8\n"
     ]
    }
   ],
   "source": [
    "\n",
    "prop_working_go_out = working_go_out / clas.count(1)\n",
    "\n",
    "prop_broken_go_out = broken_go_out / clas.count(1)\n",
    "\n",
    "prop_working_stay_home = working_stay_home / clas.count(0)\n",
    "\n",
    "prop_broken_stay_home = broken_stay_home / clas.count(0)\n",
    "\n",
    "print(prop_working_go_out)\n",
    "print(prop_broken_go_out)\n",
    "print(prop_working_stay_home)\n",
    "print(prop_broken_stay_home)"
   ]
  },
  {
   "cell_type": "code",
   "execution_count": 44,
   "metadata": {},
   "outputs": [],
   "source": [
    "go_out = []\n",
    "stay_home = []\n",
    "\n",
    "go_out.append(prop_sunny_go_out* prop_working_go_out * prop_go_out)\n",
    "go_out.append(prop_sunny_go_out* prop_broken_go_out* prop_go_out)"
   ]
  },
  {
   "cell_type": "code",
   "execution_count": 45,
   "metadata": {},
   "outputs": [
    {
     "name": "stdout",
     "output_type": "stream",
     "text": [
      "[0.32000000000000006, 0.08000000000000002]\n"
     ]
    }
   ],
   "source": [
    "print(go_out)"
   ]
  },
  {
   "cell_type": "code",
   "execution_count": null,
   "metadata": {},
   "outputs": [],
   "source": []
  },
  {
   "cell_type": "code",
   "execution_count": null,
   "metadata": {},
   "outputs": [],
   "source": []
  },
  {
   "cell_type": "code",
   "execution_count": null,
   "metadata": {},
   "outputs": [],
   "source": []
  },
  {
   "cell_type": "code",
   "execution_count": null,
   "metadata": {},
   "outputs": [],
   "source": []
  },
  {
   "cell_type": "code",
   "execution_count": null,
   "metadata": {},
   "outputs": [],
   "source": []
  },
  {
   "cell_type": "code",
   "execution_count": null,
   "metadata": {},
   "outputs": [],
   "source": []
  },
  {
   "cell_type": "code",
   "execution_count": null,
   "metadata": {},
   "outputs": [],
   "source": []
  },
  {
   "cell_type": "code",
   "execution_count": null,
   "metadata": {},
   "outputs": [],
   "source": []
  },
  {
   "cell_type": "code",
   "execution_count": null,
   "metadata": {},
   "outputs": [],
   "source": []
  },
  {
   "cell_type": "code",
   "execution_count": null,
   "metadata": {},
   "outputs": [],
   "source": []
  }
 ],
 "metadata": {
  "kernelspec": {
   "display_name": "Python 3",
   "language": "python",
   "name": "python3"
  },
  "language_info": {
   "codemirror_mode": {
    "name": "ipython",
    "version": 3
   },
   "file_extension": ".py",
   "mimetype": "text/x-python",
   "name": "python",
   "nbconvert_exporter": "python",
   "pygments_lexer": "ipython3",
   "version": "3.7.4"
  }
 },
 "nbformat": 4,
 "nbformat_minor": 2
}
