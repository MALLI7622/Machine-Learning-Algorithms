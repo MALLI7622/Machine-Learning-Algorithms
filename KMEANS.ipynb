{
  "nbformat": 4,
  "nbformat_minor": 0,
  "metadata": {
    "colab": {
      "name": "KMEANS.ipynb",
      "provenance": [],
      "authorship_tag": "ABX9TyP92WnXM1u6PluSPi7XzrB+",
      "include_colab_link": true
    },
    "kernelspec": {
      "name": "python3",
      "display_name": "Python 3"
    }
  },
  "cells": [
    {
      "cell_type": "markdown",
      "metadata": {
        "id": "view-in-github",
        "colab_type": "text"
      },
      "source": [
        "<a href=\"https://colab.research.google.com/github/MALLI7622/Machine-Learning-Algorithms/blob/master/KMEANS.ipynb\" target=\"_parent\"><img src=\"https://colab.research.google.com/assets/colab-badge.svg\" alt=\"Open In Colab\"/></a>"
      ]
    },
    {
      "cell_type": "code",
      "metadata": {
        "id": "WpiqfOuGJ_Et"
      },
      "source": [
        "import pandas as pd\n",
        "import warnings\n",
        "warnings.filterwarnings(\"ignore\")\n",
        "\n",
        "from nltk.tokenize import RegexpTokenizer\n",
        "from sklearn.cluster import KMeans\n",
        "from nltk.stem.snowball import SnowballStemmer\n",
        "%matplotlib inline\n"
      ],
      "execution_count": 1,
      "outputs": []
    },
    {
      "cell_type": "code",
      "metadata": {
        "id": "I3_vtdF-KN96"
      },
      "source": [
        "company_descriptions = pd.read_excel('Company Descriptions.xlsx')"
      ],
      "execution_count": 3,
      "outputs": []
    },
    {
      "cell_type": "code",
      "metadata": {
        "id": "KP4v1NACKN5I"
      },
      "source": [
        "for i, desc in enumerate(company_descriptions['company_description']):\n",
        "    if type(desc) == float:\n",
        "        company_descriptions['company_description'][i] = company_descriptions['company_short_description'][i]\n",
        "        "
      ],
      "execution_count": 4,
      "outputs": []
    },
    {
      "cell_type": "code",
      "metadata": {
        "id": "CJWH_v8iKN2i",
        "outputId": "723a4085-c2c6-4a63-c1c8-9065738b7a73",
        "colab": {
          "base_uri": "https://localhost:8080/",
          "height": 202
        }
      },
      "source": [
        "company_descriptions.head()"
      ],
      "execution_count": 5,
      "outputs": [
        {
          "output_type": "execute_result",
          "data": {
            "text/html": [
              "<div>\n",
              "<style scoped>\n",
              "    .dataframe tbody tr th:only-of-type {\n",
              "        vertical-align: middle;\n",
              "    }\n",
              "\n",
              "    .dataframe tbody tr th {\n",
              "        vertical-align: top;\n",
              "    }\n",
              "\n",
              "    .dataframe thead th {\n",
              "        text-align: right;\n",
              "    }\n",
              "</style>\n",
              "<table border=\"1\" class=\"dataframe\">\n",
              "  <thead>\n",
              "    <tr style=\"text-align: right;\">\n",
              "      <th></th>\n",
              "      <th>company_name</th>\n",
              "      <th>company_short_description</th>\n",
              "      <th>company_description</th>\n",
              "    </tr>\n",
              "  </thead>\n",
              "  <tbody>\n",
              "    <tr>\n",
              "      <th>0</th>\n",
              "      <td>Codementor</td>\n",
              "      <td>Codementor is an online marketplace connecting...</td>\n",
              "      <td>Codementor provides live 1:1 help for software...</td>\n",
              "    </tr>\n",
              "    <tr>\n",
              "      <th>1</th>\n",
              "      <td>AgShift</td>\n",
              "      <td>AgShift is designing world's most advanced aut...</td>\n",
              "      <td>AgShift solution blends Deep Learning with Com...</td>\n",
              "    </tr>\n",
              "    <tr>\n",
              "      <th>2</th>\n",
              "      <td>Shipsi</td>\n",
              "      <td>Shipsi empowers any retailer with the ability ...</td>\n",
              "      <td>Shipsi empowers any retailer with the ability ...</td>\n",
              "    </tr>\n",
              "    <tr>\n",
              "      <th>3</th>\n",
              "      <td>OpenNews</td>\n",
              "      <td>OpenNews helps a global network of developers,...</td>\n",
              "      <td>We're helping a global network of developers, ...</td>\n",
              "    </tr>\n",
              "    <tr>\n",
              "      <th>4</th>\n",
              "      <td>Biobot Analytics</td>\n",
              "      <td>Biobot Analytics analyzes city sewage to estim...</td>\n",
              "      <td>Biobot Analytics analyzes sewage to estimate o...</td>\n",
              "    </tr>\n",
              "  </tbody>\n",
              "</table>\n",
              "</div>"
            ],
            "text/plain": [
              "       company_name  ...                                company_description\n",
              "0        Codementor  ...  Codementor provides live 1:1 help for software...\n",
              "1           AgShift  ...  AgShift solution blends Deep Learning with Com...\n",
              "2            Shipsi  ...  Shipsi empowers any retailer with the ability ...\n",
              "3          OpenNews  ...  We're helping a global network of developers, ...\n",
              "4  Biobot Analytics  ...  Biobot Analytics analyzes sewage to estimate o...\n",
              "\n",
              "[5 rows x 3 columns]"
            ]
          },
          "metadata": {
            "tags": []
          },
          "execution_count": 5
        }
      ]
    },
    {
      "cell_type": "code",
      "metadata": {
        "id": "h37eA1hWKN0r",
        "outputId": "d1546029-1768-4741-cb83-af585b94c6ae",
        "colab": {
          "base_uri": "https://localhost:8080/",
          "height": 191
        }
      },
      "source": [
        "company_descriptions.info()"
      ],
      "execution_count": 6,
      "outputs": [
        {
          "output_type": "stream",
          "text": [
            "<class 'pandas.core.frame.DataFrame'>\n",
            "RangeIndex: 19965 entries, 0 to 19964\n",
            "Data columns (total 3 columns):\n",
            " #   Column                     Non-Null Count  Dtype \n",
            "---  ------                     --------------  ----- \n",
            " 0   company_name               19965 non-null  object\n",
            " 1   company_short_description  19965 non-null  object\n",
            " 2   company_description        19965 non-null  object\n",
            "dtypes: object(3)\n",
            "memory usage: 468.1+ KB\n"
          ],
          "name": "stdout"
        }
      ]
    },
    {
      "cell_type": "code",
      "metadata": {
        "id": "OyvuyCD1KNx4"
      },
      "source": [
        "punc = ['.', ',', '\"', \"'\", '?', '!', ':', ';', '(', ')', '[', ']', '{', '}',\"%\"]"
      ],
      "execution_count": 7,
      "outputs": []
    },
    {
      "cell_type": "code",
      "metadata": {
        "id": "XtbZlQbwKNwK",
        "outputId": "a835c598-ae03-4510-cff1-95c16555f700",
        "colab": {
          "base_uri": "https://localhost:8080/",
          "height": 225
        }
      },
      "source": [
        "company_descriptions['company_description']"
      ],
      "execution_count": 8,
      "outputs": [
        {
          "output_type": "execute_result",
          "data": {
            "text/plain": [
              "0        Codementor provides live 1:1 help for software...\n",
              "1        AgShift solution blends Deep Learning with Com...\n",
              "2        Shipsi empowers any retailer with the ability ...\n",
              "3        We're helping a global network of developers, ...\n",
              "4        Biobot Analytics analyzes sewage to estimate o...\n",
              "                               ...                        \n",
              "19960    Powermat Technologies is a developer of wirele...\n",
              "19961    Properly is a visual checklist tool that lets ...\n",
              "19962    Bid Ops accelerates business partnerships betw...\n",
              "19963    Tavolo offers an online store that enables its...\n",
              "19964    StackMob’s mobile platform helps developers cr...\n",
              "Name: company_description, Length: 19965, dtype: object"
            ]
          },
          "metadata": {
            "tags": []
          },
          "execution_count": 8
        }
      ]
    },
    {
      "cell_type": "code",
      "metadata": {
        "id": "okCJFa2_KNte"
      },
      "source": [
        "from sklearn.feature_extraction import text\n",
        "from sklearn.feature_extraction.text import TfidfVectorizer\n"
      ],
      "execution_count": 9,
      "outputs": []
    },
    {
      "cell_type": "code",
      "metadata": {
        "id": "3Ef1HrUiKNrj"
      },
      "source": [
        "stop_words = text.ENGLISH_STOP_WORDS.union(punc)"
      ],
      "execution_count": 10,
      "outputs": []
    },
    {
      "cell_type": "code",
      "metadata": {
        "id": "ekpXoCFHKNqG"
      },
      "source": [
        "desc = company_descriptions['company_description'].values"
      ],
      "execution_count": 11,
      "outputs": []
    },
    {
      "cell_type": "code",
      "metadata": {
        "id": "SajYTP22KNnF"
      },
      "source": [
        "vectorizer = TfidfVectorizer(stop_words = stop_words)"
      ],
      "execution_count": 12,
      "outputs": []
    },
    {
      "cell_type": "code",
      "metadata": {
        "id": "1u9qWCqaKNlH"
      },
      "source": [
        "X = vectorizer.fit_transform(desc)"
      ],
      "execution_count": 13,
      "outputs": []
    },
    {
      "cell_type": "code",
      "metadata": {
        "id": "6Y7lI7LNKNZi"
      },
      "source": [
        "word_features = vectorizer.get_feature_names()"
      ],
      "execution_count": 14,
      "outputs": []
    },
    {
      "cell_type": "code",
      "metadata": {
        "id": "4WUgnlSUKNYG",
        "outputId": "6254ffb2-8b4d-4ef4-ffef-d11e87c16bf2",
        "colab": {
          "base_uri": "https://localhost:8080/",
          "height": 35
        }
      },
      "source": [
        "print(len(word_features))"
      ],
      "execution_count": 15,
      "outputs": [
        {
          "output_type": "stream",
          "text": [
            "55613\n"
          ],
          "name": "stdout"
        }
      ]
    },
    {
      "cell_type": "code",
      "metadata": {
        "id": "6hzImg37KNVU"
      },
      "source": [
        "stemmer = SnowballStemmer('english')\n",
        "tokenizer = RegexpTokenizer(r'[a-zA-Z\\']+')\n"
      ],
      "execution_count": 16,
      "outputs": []
    },
    {
      "cell_type": "code",
      "metadata": {
        "id": "0KSI74roKNSt"
      },
      "source": [
        "def tokenize(text):\n",
        "    return [stemmer.stem(word) for word in tokenizer.tokenize(text.lower())]\n"
      ],
      "execution_count": 18,
      "outputs": []
    },
    {
      "cell_type": "code",
      "metadata": {
        "id": "k1nB52m6KNRO"
      },
      "source": [
        "vectorizer2 = TfidfVectorizer(stop_words = stop_words, tokenizer = tokenize)"
      ],
      "execution_count": 19,
      "outputs": []
    },
    {
      "cell_type": "code",
      "metadata": {
        "id": "E_TGp9rvKNOj"
      },
      "source": [
        "X2 = vectorizer2.fit_transform(desc)"
      ],
      "execution_count": 20,
      "outputs": []
    },
    {
      "cell_type": "code",
      "metadata": {
        "id": "Q8Tk7SN0KNMu"
      },
      "source": [
        "word_features2 = vectorizer2.get_feature_names()"
      ],
      "execution_count": 21,
      "outputs": []
    },
    {
      "cell_type": "code",
      "metadata": {
        "id": "DS6kfd10KNKT",
        "outputId": "e1aea3c1-8ff6-41da-cbdd-0290cc95851d",
        "colab": {
          "base_uri": "https://localhost:8080/",
          "height": 35
        }
      },
      "source": [
        "print(len(word_features2))"
      ],
      "execution_count": 22,
      "outputs": [
        {
          "output_type": "stream",
          "text": [
            "41652\n"
          ],
          "name": "stdout"
        }
      ]
    },
    {
      "cell_type": "code",
      "metadata": {
        "id": "D7hYAN7aNRm6",
        "outputId": "5000c70f-a0e6-4a84-bded-b8ec78e79ddf",
        "colab": {
          "base_uri": "https://localhost:8080/",
          "height": 55
        }
      },
      "source": [
        "print(word_features2[:50]) "
      ],
      "execution_count": 23,
      "outputs": [
        {
          "output_type": "stream",
          "text": [
            "[\"'n\", \"'s\", 'aa', 'aaa', 'aabb', 'aac', 'aadi', 'aaf', 'aafco', 'aaid', 'aajtak', 'aao', 'aaptiv', 'aar', 'aarden', 'aardvark', 'aarjav', 'aarki', 'aarkimobil', 'aarohi', 'aaron', 'aarp', 'aasm', 'aat', 'aati', 'aav', 'aavhsc', 'aavogen', 'ab', 'aba', 'abacus', 'abalon', 'abandon', 'abaqus', 'abat', 'abazab', 'abb', 'abbatron', 'abbi', 'abbotsford', 'abbott', 'abbrevi', 'abbvi', 'abc', 'abcnew', 'abdelkad', 'abdomen', 'abdomin', 'abdominoplasti', 'abdus']\n"
          ],
          "name": "stdout"
        }
      ]
    },
    {
      "cell_type": "code",
      "metadata": {
        "id": "fJv7mAquNRyd",
        "outputId": "f9968287-0eb0-4cff-b50a-c8b6bab22836",
        "colab": {
          "base_uri": "https://localhost:8080/",
          "height": 72
        }
      },
      "source": [
        "vectorizer2 = TfidfVectorizer(stop_words = stop_words, tokenizer = tokenize)\n",
        "X2 = vectorizer2.fit_transform(desc)\n",
        "word_features2 = vectorizer2.get_feature_names()\n",
        "print(len(word_features2))\n",
        "print(word_features2[:50])"
      ],
      "execution_count": 24,
      "outputs": [
        {
          "output_type": "stream",
          "text": [
            "41652\n",
            "[\"'n\", \"'s\", 'aa', 'aaa', 'aabb', 'aac', 'aadi', 'aaf', 'aafco', 'aaid', 'aajtak', 'aao', 'aaptiv', 'aar', 'aarden', 'aardvark', 'aarjav', 'aarki', 'aarkimobil', 'aarohi', 'aaron', 'aarp', 'aasm', 'aat', 'aati', 'aav', 'aavhsc', 'aavogen', 'ab', 'aba', 'abacus', 'abalon', 'abandon', 'abaqus', 'abat', 'abazab', 'abb', 'abbatron', 'abbi', 'abbotsford', 'abbott', 'abbrevi', 'abbvi', 'abc', 'abcnew', 'abdelkad', 'abdomen', 'abdomin', 'abdominoplasti', 'abdus']\n"
          ],
          "name": "stdout"
        }
      ]
    },
    {
      "cell_type": "code",
      "metadata": {
        "id": "Gjx996qiYG6l"
      },
      "source": [
        ""
      ],
      "execution_count": null,
      "outputs": []
    },
    {
      "cell_type": "code",
      "metadata": {
        "id": "a9GUF7qFNSAi"
      },
      "source": [
        "vectorizer3 = TfidfVectorizer(stop_words = stop_words, tokenizer = tokenize, max_features = 100)\n",
        "X3 = vectorizer3.fit_transform(desc)\n",
        "words = vectorizer3.get_feature_names()"
      ],
      "execution_count": 26,
      "outputs": []
    },
    {
      "cell_type": "code",
      "metadata": {
        "id": "U3XasmBdYIdd"
      },
      "source": [
        ""
      ],
      "execution_count": 31,
      "outputs": []
    },
    {
      "cell_type": "code",
      "metadata": {
        "id": "0qhtX6lkNSFy",
        "outputId": "2ea6d7cd-ea39-4571-c817-aab439e153eb",
        "colab": {
          "base_uri": "https://localhost:8080/",
          "height": 52
        }
      },
      "source": [
        "%%time\n",
        "from tqdm import tqdm\n",
        "from sklearn.cluster import KMeans\n",
        "sum_of_squared_distances = []\n",
        "for i in range(1, 41):\n",
        "    kmeans_1 = KMeans(n_clusters = i,init='k-means++',max_iter=300,n_init=10,random_state=0)\n",
        "    kmeans_1.fit(X3)\n",
        "    sum_of_squared_distances.append(kmeans_1.inertia_)"
      ],
      "execution_count": 35,
      "outputs": [
        {
          "output_type": "stream",
          "text": [
            "CPU times: user 1h 8min 54s, sys: 2.78 s, total: 1h 8min 57s\n",
            "Wall time: 1h 8min 59s\n"
          ],
          "name": "stdout"
        }
      ]
    },
    {
      "cell_type": "markdown",
      "metadata": {
        "id": "CgmO38cEUpKe"
      },
      "source": [
        ""
      ]
    },
    {
      "cell_type": "code",
      "metadata": {
        "id": "X6j1YW5lNsBq",
        "outputId": "f57adc35-454c-4bf1-918b-0edcebe29367",
        "colab": {
          "base_uri": "https://localhost:8080/",
          "height": 299
        }
      },
      "source": [
        "import matplotlib.pyplot as plt\n",
        "plt.style.use('ggplot')\n",
        "plt.plot(range(1,41),sum_of_squared_distances)\n",
        "plt.title('The Elbow Method')\n",
        "plt.xlabel('Number of clusters')\n",
        "plt.ylabel('WCSS')\n",
        "plt.savefig('elbow.png')\n",
        "plt.show()"
      ],
      "execution_count": 37,
      "outputs": [
        {
          "output_type": "display_data",
          "data": {
            "image/png": "[encoded data removed]",
            "text/plain": [
              "<Figure size 432x288 with 1 Axes>"
            ]
          },
          "metadata": {
            "tags": []
          }
        }
      ]
    },
    {
      "cell_type": "code",
      "metadata": {
        "id": "Ux69Lax3NSK7",
        "outputId": "aacc7f36-f56b-450b-c189-70642fa790ff",
        "colab": {
          "base_uri": "https://localhost:8080/",
          "height": 225
        }
      },
      "source": [
        "%%time\n",
        "from tqdm import tqdm\n",
        "from sklearn.cluster import KMeans\n",
        "sum_of_squared_distances = []\n",
        "for i in range(1, 100):\n",
        "    kmeans = KMeans(n_clusters = i,init='k-means++',max_iter=300,n_init=10,random_state=0)\n",
        "    kmeans.fit(X3)\n",
        "    sum_of_squared_distances.append(kmeans.inertia_)\n",
        "    if (i+1) % 10 == 0:\n",
        "      print(i, \"Iterations are completed\")"
      ],
      "execution_count": 41,
      "outputs": [
        {
          "output_type": "stream",
          "text": [
            "9 Iterations are completed\n",
            "19 Iterations are completed\n",
            "29 Iterations are completed\n",
            "39 Iterations are completed\n",
            "49 Iterations are completed\n",
            "59 Iterations are completed\n",
            "69 Iterations are completed\n",
            "79 Iterations are completed\n",
            "89 Iterations are completed\n",
            "99 Iterations are completed\n",
            "CPU times: user 2h 45min 31s, sys: 11.1 s, total: 2h 45min 42s\n",
            "Wall time: 2h 45min 46s\n"
          ],
          "name": "stdout"
        }
      ]
    },
    {
      "cell_type": "code",
      "metadata": {
        "id": "C3KH6igKNSOs",
        "outputId": "a5c20847-4db4-4e00-db68-fb7ba642ce8e",
        "colab": {
          "base_uri": "https://localhost:8080/",
          "height": 299
        }
      },
      "source": [
        "import matplotlib.pyplot as plt\n",
        "plt.style.use('ggplot')\n",
        "plt.plot(range(1,100),sum_of_squared_distances)\n",
        "plt.title('The Elbow Method')\n",
        "plt.xlabel('Number of clusters')\n",
        "plt.ylabel('Sum of the squared distances')\n",
        "plt.savefig('elbow1.png')\n",
        "plt.show()"
      ],
      "execution_count": 43,
      "outputs": [
        {
          "output_type": "display_data",
          "data": {
            "image/png": "[encoded data removed]",
            "text/plain": [
              "<Figure size 432x288 with 1 Axes>"
            ]
          },
          "metadata": {
            "tags": []
          }
        }
      ]
    },
    {
      "cell_type": "code",
      "metadata": {
        "id": "SEAB__CQNSJg"
      },
      "source": [
        ""
      ],
      "execution_count": null,
      "outputs": []
    },
    {
      "cell_type": "code",
      "metadata": {
        "id": "z7fK96S0NSEB"
      },
      "source": [
        ""
      ],
      "execution_count": null,
      "outputs": []
    },
    {
      "cell_type": "code",
      "metadata": {
        "id": "-qGltR_9NR-f"
      },
      "source": [
        ""
      ],
      "execution_count": null,
      "outputs": []
    },
    {
      "cell_type": "code",
      "metadata": {
        "id": "lM6DOIUENR7w"
      },
      "source": [
        ""
      ],
      "execution_count": null,
      "outputs": []
    },
    {
      "cell_type": "code",
      "metadata": {
        "id": "Dvq_Y-7vNR5q"
      },
      "source": [
        ""
      ],
      "execution_count": null,
      "outputs": []
    },
    {
      "cell_type": "code",
      "metadata": {
        "id": "mgeZQLdbNR3_"
      },
      "source": [
        ""
      ],
      "execution_count": null,
      "outputs": []
    },
    {
      "cell_type": "code",
      "metadata": {
        "id": "PDDyohChNR2I"
      },
      "source": [
        ""
      ],
      "execution_count": null,
      "outputs": []
    },
    {
      "cell_type": "code",
      "metadata": {
        "id": "AnoA4WWsNRwW"
      },
      "source": [
        ""
      ],
      "execution_count": null,
      "outputs": []
    },
    {
      "cell_type": "code",
      "metadata": {
        "id": "9oyvX2StNRt2"
      },
      "source": [
        ""
      ],
      "execution_count": null,
      "outputs": []
    },
    {
      "cell_type": "code",
      "metadata": {
        "id": "a5tHHg3kNRsN"
      },
      "source": [
        ""
      ],
      "execution_count": null,
      "outputs": []
    },
    {
      "cell_type": "code",
      "metadata": {
        "id": "o_pLZaaQNRqI"
      },
      "source": [
        ""
      ],
      "execution_count": null,
      "outputs": []
    },
    {
      "cell_type": "code",
      "metadata": {
        "id": "KYsT5Ff8NRkQ"
      },
      "source": [
        ""
      ],
      "execution_count": null,
      "outputs": []
    },
    {
      "cell_type": "code",
      "metadata": {
        "id": "810tpD9WNRhz"
      },
      "source": [
        ""
      ],
      "execution_count": null,
      "outputs": []
    },
    {
      "cell_type": "code",
      "metadata": {
        "id": "T62wfFMiKNII"
      },
      "source": [
        ""
      ],
      "execution_count": null,
      "outputs": []
    }
  ]
}