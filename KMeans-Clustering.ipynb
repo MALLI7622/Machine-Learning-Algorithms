{
 "cells": [
  {
   "cell_type": "code",
   "execution_count": 14,
   "metadata": {},
   "outputs": [],
   "source": [
    "import os\n",
    "import matplotlib.pyplot as plt\n"
   ]
  },
  {
   "cell_type": "code",
   "execution_count": 16,
   "metadata": {},
   "outputs": [
    {
     "data": {
      "text/plain": [
       "['.ipynb_checkpoints',\n",
       " '4xl-black-gown-pavitra-original-imafn9dh5hpdhq2w.jpeg',\n",
       " 'free-hm-kash-1023-m-s-retail-original-imafh9cvkghrphwc.jpeg',\n",
       " 'free-hm-kash-1023-m-s-retail-original-imafh9cvsq7hz2uy.jpeg',\n",
       " 'free-hm-kash-1023-m-s-retail-original-imafh9cvv8t4wycu.jpeg',\n",
       " 'free-sari-5-mithark-original-imafm5hgeyeehvtu.jpeg',\n",
       " 'free-sari-5-mithark-original-imafm5hgnhavxu3h.jpeg',\n",
       " 'free-sari-5-mithark-original-imafm5hgv3qwvaxh.jpeg',\n",
       " 'l-black-dori-pmd-fashion-original-imafn2rcyx4hqs4e.jpeg',\n",
       " 'l-rs19stkt-b-rope-original-imafeeuhmfuyzj7f.jpeg',\n",
       " 'l-rs19stkt-b-rope-original-imafeeuhwywtgzwy.jpeg',\n",
       " 'm-black-dori-pmd-fashion-original-imafn2rydq93dfky.jpeg',\n",
       " 'm-black-gown-pavitra-original-imafn9dhf4fs94gt.jpeg',\n",
       " 'm-pr343white-prakhya-original-imafj5awct4fryr7.jpeg',\n",
       " 'm-pr343white-prakhya-original-imafj5awhczfzwz3.jpeg',\n",
       " 'm-pr343white-prakhya-original-imafj5awnfunzpba.jpeg',\n",
       " 'm-pr343white-prakhya-original-imafj5awvx26z9hq.jpeg',\n",
       " 'm-rs19stkt-b-rope-original-imafeeug9ak3rpsp.jpeg',\n",
       " 'm-rs19stkt-b-rope-original-imafeeugebf5nghr.jpeg',\n",
       " 'Text Mercato - Assignment.ipynb',\n",
       " 'xxl-black-dori-pmd-fashion-original-imafn2rkut8uz4uz.jpeg',\n",
       " 'xxl-black-gown-pavitra-original-imafn9dhjk9dayx5.jpeg']"
      ]
     },
     "execution_count": 16,
     "metadata": {},
     "output_type": "execute_result"
    }
   ],
   "source": [
    "os.listdir()"
   ]
  },
  {
   "cell_type": "code",
   "execution_count": null,
   "metadata": {},
   "outputs": [],
   "source": []
  },
  {
   "cell_type": "code",
   "execution_count": null,
   "metadata": {},
   "outputs": [],
   "source": []
  },
  {
   "cell_type": "code",
   "execution_count": null,
   "metadata": {},
   "outputs": [],
   "source": []
  },
  {
   "cell_type": "code",
   "execution_count": null,
   "metadata": {},
   "outputs": [],
   "source": []
  },
  {
   "cell_type": "code",
   "execution_count": null,
   "metadata": {},
   "outputs": [],
   "source": []
  },
  {
   "cell_type": "code",
   "execution_count": null,
   "metadata": {},
   "outputs": [],
   "source": []
  },
  {
   "cell_type": "code",
   "execution_count": null,
   "metadata": {},
   "outputs": [],
   "source": []
  },
  {
   "cell_type": "code",
   "execution_count": null,
   "metadata": {},
   "outputs": [],
   "source": []
  },
  {
   "cell_type": "code",
   "execution_count": null,
   "metadata": {},
   "outputs": [],
   "source": []
  },
  {
   "cell_type": "code",
   "execution_count": null,
   "metadata": {},
   "outputs": [],
   "source": []
  }
 ],
 "metadata": {
  "kernelspec": {
   "display_name": "Python 3",
   "language": "python",
   "name": "python3"
  },
  "language_info": {
   "codemirror_mode": {
    "name": "ipython",
    "version": 3
   },
   "file_extension": ".py",
   "mimetype": "text/x-python",
   "name": "python",
   "nbconvert_exporter": "python",
   "pygments_lexer": "ipython3",
   "version": "3.7.4"
  }
 },
 "nbformat": 4,
 "nbformat_minor": 2
}
