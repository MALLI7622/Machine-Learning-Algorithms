{
 "cells": [
  {
   "cell_type": "code",
   "execution_count": 1,
   "metadata": {},
   "outputs": [],
   "source": [
    "import pandas as pd\n",
    "import numpy as np\n",
    "import matplotlib.pyplot as plt\n",
    "import seaborn as sns\n",
    "import math"
   ]
  },
  {
   "cell_type": "code",
   "execution_count": 2,
   "metadata": {},
   "outputs": [],
   "source": [
    "\n",
    "X1 = [2.7810836, 1.465489372, 3.396561688, 1.38807019, 3.06407232, 7.627531214, 5.332441248,6.922596716,8.675418651,7.673756466]\n",
    "X2 = [2.550537003,2.362125076,4.400293529,1.850220317,3.005305973,2.759262235,2.088626775,1.77106367,-0.242068655,3.508563011]\n",
    "Y = [0,0,0,0,0,1,1,1,1,1]\n"
   ]
  },
  {
   "cell_type": "code",
   "execution_count": 3,
   "metadata": {},
   "outputs": [
    {
     "data": {
      "image/png": "[encoded data removed]",
      "text/plain": [
       "<Figure size 432x288 with 1 Axes>"
      ]
     },
     "metadata": {
      "needs_background": "light"
     },
     "output_type": "display_data"
    }
   ],
   "source": [
    "sns.scatterplot(X1,X2, hue = Y,style = Y)\n",
    "#sns.set()\n",
    "sns.set_style(\"whitegrid\")\n",
    "plt.show()"
   ]
  },
  {
   "cell_type": "code",
   "execution_count": 30,
   "metadata": {},
   "outputs": [],
   "source": [
    "def Predict(x1, x2, b0, b1, b2):\n",
    "    \n",
    "    return 1 / (1 + math.exp(b0+b1*x1+b2*x2))\n",
    "\n",
    "\n",
    "def LogisticRegression(X1, X2, Y):\n",
    "    \n",
    "    B0 = 0\n",
    "    B1 = 0\n",
    "    B2 = 0\n",
    "    Er = []\n",
    "    alpha = 0.03\n",
    "    for i in range(10):\n",
    "        for (x1, x2, y) in zip(X1, X2, Y):\n",
    "\n",
    "            P = Predict(x1, x2, B0, B1, B2)\n",
    "            #print(P)\n",
    "            Er.append(P-y)\n",
    "\n",
    "            B0 = B0 + (alpha * (y - P) * P * (1-P) * 1.0)\n",
    "            B1 = B1 + (alpha * (y - P) * P * (1-P) * x1)\n",
    "            B2 = B2 + alpha * (y - P) * P * (1-P) * x2\n",
    "            #print(B0, B1, B2)\n",
    "\n",
    "    coeff = [B0, B1, B2]\n",
    "    #print(Er)\n",
    "    #plt.plot(Er)\n",
    "    return coeff"
   ]
  },
  {
   "cell_type": "code",
   "execution_count": 31,
   "metadata": {},
   "outputs": [],
   "source": [
    "B0, B1, B2 = LogisticRegression(X1, X2, Y)"
   ]
  },
  {
   "cell_type": "code",
   "execution_count": 32,
   "metadata": {},
   "outputs": [
    {
     "data": {
      "text/plain": [
       "(-0.01390216349970157, 0.5143674055967089, -0.11196759278671828)"
      ]
     },
     "execution_count": 32,
     "metadata": {},
     "output_type": "execute_result"
    }
   ],
   "source": [
    "B0, B1, B2"
   ]
  },
  {
   "cell_type": "code",
   "execution_count": 33,
   "metadata": {},
   "outputs": [],
   "source": [
    "predict = []\n",
    "y_pred = []\n",
    "for (x1, x2) in zip(X1, X2):\n",
    "    if Predict(x1, x2, B0, B1, B2) > 0.25:\n",
    "        y_pred.append(1)\n",
    "    else:\n",
    "        y_pred.append(0)\n",
    "    predict.append(Predict(x1, x2, B0, B1, B2))\n",
    "    \n",
    "    \n"
   ]
  },
  {
   "cell_type": "code",
   "execution_count": 34,
   "metadata": {},
   "outputs": [
    {
     "data": {
      "text/plain": [
       "[0.24397307790333592,\n",
       " 0.38333507141496675,\n",
       " 0.22435102133910148,\n",
       " 0.3792080073179655,\n",
       " 0.22694194894242842,\n",
       " 0.026583965728374247,\n",
       " 0.07620428291090818,\n",
       " 0.03394254020954336,\n",
       " 0.011255775923865525,\n",
       " 0.0281848041298471]"
      ]
     },
     "execution_count": 34,
     "metadata": {},
     "output_type": "execute_result"
    }
   ],
   "source": [
    "predict "
   ]
  },
  {
   "cell_type": "code",
   "execution_count": 35,
   "metadata": {},
   "outputs": [
    {
     "data": {
      "text/plain": [
       "[0, 1, 0, 1, 0, 0, 0, 0, 0, 0]"
      ]
     },
     "execution_count": 35,
     "metadata": {},
     "output_type": "execute_result"
    }
   ],
   "source": [
    "y_pred"
   ]
  },
  {
   "cell_type": "code",
   "execution_count": null,
   "metadata": {},
   "outputs": [],
   "source": []
  },
  {
   "cell_type": "code",
   "execution_count": null,
   "metadata": {},
   "outputs": [],
   "source": []
  },
  {
   "cell_type": "code",
   "execution_count": null,
   "metadata": {},
   "outputs": [],
   "source": []
  },
  {
   "cell_type": "code",
   "execution_count": null,
   "metadata": {},
   "outputs": [],
   "source": []
  },
  {
   "cell_type": "code",
   "execution_count": null,
   "metadata": {},
   "outputs": [],
   "source": []
  },
  {
   "cell_type": "code",
   "execution_count": null,
   "metadata": {},
   "outputs": [],
   "source": []
  },
  {
   "cell_type": "code",
   "execution_count": null,
   "metadata": {},
   "outputs": [],
   "source": []
  }
 ],
 "metadata": {
  "kernelspec": {
   "display_name": "Python 3",
   "language": "python",
   "name": "python3"
  },
  "language_info": {
   "codemirror_mode": {
    "name": "ipython",
    "version": 3
   },
   "file_extension": ".py",
   "mimetype": "text/x-python",
   "name": "python",
   "nbconvert_exporter": "python",
   "pygments_lexer": "ipython3",
   "version": "3.7.4"
  }
 },
 "nbformat": 4,
 "nbformat_minor": 2
}
