{
 "cells": [
  {
   "cell_type": "code",
   "execution_count": 1,
   "metadata": {},
   "outputs": [],
   "source": [
    "import numpy as np\n",
    "import matplotlib.pyplot as plt\n",
    "import statistics as stat\n",
    "import math\n",
    "import pandas as pd"
   ]
  },
  {
   "cell_type": "code",
   "execution_count": 2,
   "metadata": {},
   "outputs": [],
   "source": [
    "x = [1, 2, 4, 3, 5]\n",
    "y = [1, 3, 3, 2, 5]\n"
   ]
  },
  {
   "cell_type": "code",
   "execution_count": 3,
   "metadata": {},
   "outputs": [
    {
     "data": {
      "image/png": "[encoded data removed]",
      "text/plain": [
       "<Figure size 432x288 with 1 Axes>"
      ]
     },
     "metadata": {
      "needs_background": "light"
     },
     "output_type": "display_data"
    }
   ],
   "source": [
    "plt.title(' Simple Linear Regression Dataset', color = 'red')\n",
    "plt.xlabel('X data', color = 'blue')\n",
    "plt.ylabel('Y data', color = 'blue')\n",
    "plt.scatter(x, y, color = 'green', marker = '*')\n",
    "plt.grid(True)"
   ]
  },
  {
   "cell_type": "code",
   "execution_count": 4,
   "metadata": {},
   "outputs": [],
   "source": [
    "def Error(Y, y_predict):\n",
    "    \n",
    "    n = len(Y)\n",
    "    \n",
    "    sum_error = 0\n",
    "    for i,j in zip(Y, y_predict):\n",
    "        \n",
    "        sum_error = sum_error + ( i - j) **2\n",
    "        \n",
    "    return math.sqrt(sum_error/n)\n",
    "    "
   ]
  },
  {
   "cell_type": "code",
   "execution_count": 5,
   "metadata": {},
   "outputs": [],
   "source": [
    "def GradientDescent(X,B1, B0):\n",
    "    \n",
    "    return B0 + B1 * X"
   ]
  },
  {
   "cell_type": "code",
   "execution_count": 6,
   "metadata": {},
   "outputs": [],
   "source": [
    "def Predict(X,Y,B1, B0):\n",
    "    \n",
    "    y_predict = []\n",
    "    for i in X:\n",
    "        y_predict.append( B0 + B1 * i )\n",
    "        \n",
    "    print(\"Predicted:\", y_predict, \"\\n original\", Y)\n",
    "    df=pd.DataFrame({'x': x, 'y': y_predict})\n",
    "    plt.title(\"Simple Linear Regression\")\n",
    "    plt.plot( 'x', 'y', data=df, color = 'red', linestyle='--', marker='^', markersize= 8)\n",
    "    plt.scatter(X, Y, color = 'blue', marker = '*')\n",
    "    plt.legend(['predicted', 'Original'])\n",
    "    plt.grid(True)\n",
    "    print('Error', Error(Y, y_predict))"
   ]
  },
  {
   "cell_type": "code",
   "execution_count": 7,
   "metadata": {},
   "outputs": [],
   "source": [
    "\n",
    "def SimpleLinearRegressionusingGradientDescent(x_data, y_data):\n",
    "    \n",
    "    X = x_data\n",
    "    Y = y_data\n",
    "    \n",
    "    epochs = 10000\n",
    "    alpha = 0.01\n",
    "    B0 = 0.0\n",
    "    B1 = 0.0\n",
    "    error = []\n",
    "    for i in range(epochs):\n",
    "        \n",
    "        for (i, j) in zip(X, Y):\n",
    "\n",
    "            error_onetime = GradientDescent(i, B1, B0) - j\n",
    "            error.append(error_onetime)\n",
    "\n",
    "            B0 = B0 - alpha * error_onetime\n",
    "            B1 = B1 - alpha * error_onetime*i\n",
    "\n",
    "    Predict(X, Y, B1, B0)"
   ]
  },
  {
   "cell_type": "code",
   "execution_count": 8,
   "metadata": {},
   "outputs": [
    {
     "name": "stdout",
     "output_type": "stream",
     "text": [
      "Predicted: [1.1721836783587645, 1.999826848274258, 3.6551131881052457, 2.827470018189752, 4.4827563580207395] \n",
      " original [1, 3, 3, 2, 5]\n",
      "Error 0.6944659038320737\n"
     ]
    },
    {
     "name": "stderr",
     "output_type": "stream",
     "text": [
      "C:\\Users\\pAndu\\Anaconda3\\envs\\PyTorch\\lib\\site-packages\\ipykernel_launcher.py:10: RuntimeWarning: Second argument 'y' is ambiguous: could be a color spec but is in data; using as data.  Either rename the entry in data or use three arguments to plot.\n",
      "  # Remove the CWD from sys.path while we load stuff.\n"
     ]
    },
    {
     "data": {
      "image/png": "[encoded data removed]",
      "text/plain": [
       "<Figure size 432x288 with 1 Axes>"
      ]
     },
     "metadata": {
      "needs_background": "light"
     },
     "output_type": "display_data"
    }
   ],
   "source": [
    "SimpleLinearRegressionusingGradientDescent(x,y)"
   ]
  },
  {
   "cell_type": "code",
   "execution_count": null,
   "metadata": {},
   "outputs": [],
   "source": []
  },
  {
   "cell_type": "code",
   "execution_count": null,
   "metadata": {},
   "outputs": [],
   "source": []
  },
  {
   "cell_type": "code",
   "execution_count": null,
   "metadata": {},
   "outputs": [],
   "source": []
  },
  {
   "cell_type": "code",
   "execution_count": null,
   "metadata": {},
   "outputs": [],
   "source": []
  },
  {
   "cell_type": "code",
   "execution_count": null,
   "metadata": {},
   "outputs": [],
   "source": []
  },
  {
   "cell_type": "code",
   "execution_count": null,
   "metadata": {},
   "outputs": [],
   "source": []
  },
  {
   "cell_type": "code",
   "execution_count": null,
   "metadata": {},
   "outputs": [],
   "source": []
  },
  {
   "cell_type": "code",
   "execution_count": null,
   "metadata": {},
   "outputs": [],
   "source": []
  },
  {
   "cell_type": "code",
   "execution_count": null,
   "metadata": {},
   "outputs": [],
   "source": []
  },
  {
   "cell_type": "code",
   "execution_count": null,
   "metadata": {},
   "outputs": [],
   "source": []
  },
  {
   "cell_type": "code",
   "execution_count": null,
   "metadata": {},
   "outputs": [],
   "source": []
  }
 ],
 "metadata": {
  "kernelspec": {
   "display_name": "Python 3",
   "language": "python",
   "name": "python3"
  },
  "language_info": {
   "codemirror_mode": {
    "name": "ipython",
    "version": 3
   },
   "file_extension": ".py",
   "mimetype": "text/x-python",
   "name": "python",
   "nbconvert_exporter": "python",
   "pygments_lexer": "ipython3",
   "version": "3.7.4"
  }
 },
 "nbformat": 4,
 "nbformat_minor": 2
}
