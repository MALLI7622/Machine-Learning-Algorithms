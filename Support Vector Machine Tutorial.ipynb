{
 "cells": [
  {
   "cell_type": "code",
   "execution_count": 2,
   "metadata": {},
   "outputs": [],
   "source": [
    "import numpy as np\n",
    "import matplotlib.pyplot as plt\n",
    "import seaborn as sns\n",
    "import statistics as stat\n"
   ]
  },
  {
   "cell_type": "code",
   "execution_count": 4,
   "metadata": {},
   "outputs": [],
   "source": [
    "X1 = [\n",
    "2.327868056, \n",
    "3.032830419, \n",
    "4.485465382, \n",
    "3.684815246, \n",
    "2.283558563, \n",
    "7.807521179, \n",
    "6.132998136, \n",
    "7.514829366, \n",
    "5.502385039, \n",
    "7.432932365] \n",
    "\n",
    "X2 = [\n",
    " 2.458016525, \n",
    " 3.170770366, \n",
    " 3.696728111, \n",
    " 3.846846973, \n",
    " 1.853215997, \n",
    " 3.290132136, \n",
    " 2.140563087, \n",
    " 2.107056961, \n",
    " 1.404002608, \n",
    " 4.236232628 ]\n",
    "\n",
    "Y = [\n",
    "-1,\n",
    "-1,\n",
    "-1,\n",
    "-1,\n",
    "-1,\n",
    "1,\n",
    "1,\n",
    "1,\n",
    "1,\n",
    "1]\n"
   ]
  },
  {
   "cell_type": "code",
   "execution_count": 8,
   "metadata": {},
   "outputs": [
    {
     "data": {
      "image/png": "[encoded data removed]",
      "text/plain": [
       "<Figure size 432x288 with 1 Axes>"
      ]
     },
     "metadata": {},
     "output_type": "display_data"
    }
   ],
   "source": [
    "sns.scatterplot(X1, X2, hue = Y, style = Y)\n",
    "sns.set_style(\"darkgrid\")\n",
    "plt.show()"
   ]
  },
  {
   "cell_type": "code",
   "execution_count": 112,
   "metadata": {},
   "outputs": [],
   "source": [
    "def SVM(X1, X2, Y):\n",
    "    \n",
    "    B0 = 0 \n",
    "    B1 = 0 \n",
    "    B2 = 0\n",
    "    \n",
    "    epochs = 20\n",
    "    \n",
    "    Lambda = 0.45\n",
    "    for t in range(1,epochs):\n",
    "        \n",
    "        predicted = []\n",
    "        accuracy = 0\n",
    "        accu = []\n",
    "        \n",
    "        for (i, j, k) in zip(X1, X2, Y):\n",
    "            \n",
    "            if (k* ( B1* i + B2* j <= 1)):\n",
    "                \n",
    "                B1 = (1 - 1/t) * B1 + 1 / (Lambda * t) * (k*i)\n",
    "                B2 = (1 - 1/t) * B2 + 1 / (Lambda * t) * (k*j)\n",
    "                \n",
    "            else:\n",
    "                \n",
    "                B1 = (1 - 1/t) * B1 \n",
    "                B2 = (1 - 1/t) * B2 \n",
    "        #print(B1, B2)\n",
    "        \n",
    "                \n",
    "                \n",
    "        for (i, j, k) in zip(X1, X2, Y):\n",
    "            \n",
    "            if ( (i * B1 + j* B2) < 0 ):\n",
    "                pred = -1\n",
    "                predicted.append(pred)\n",
    "                accuracy += (pred == k)\n",
    "            else:\n",
    "                pred = 1\n",
    "                predicted.append(pred)\n",
    "                accuracy += ((i * B1 + j* B2) == k)\n",
    "        #print(predicted, Y)\n",
    "        print(accuracy/10 * 100)\n",
    "    print(B1, B2)\n",
    "    \n",
    "    "
   ]
  },
  {
   "cell_type": "code",
   "execution_count": 113,
   "metadata": {
    "scrolled": true
   },
   "outputs": [
    {
     "name": "stdout",
     "output_type": "stream",
     "text": [
      "0.0\n",
      "0.0\n",
      "0.0\n",
      "0.0\n",
      "0.0\n",
      "0.0\n",
      "0.0\n",
      "30.0\n",
      "50.0\n",
      "0.0\n",
      "0.0\n",
      "0.0\n",
      "0.0\n",
      "0.0\n",
      "0.0\n",
      "0.0\n",
      "0.0\n",
      "0.0\n",
      "0.0\n",
      "0.7770591927567445 -0.20196093440638\n"
     ]
    }
   ],
   "source": [
    "SVM(X1, X2, Y)"
   ]
  },
  {
   "cell_type": "code",
   "execution_count": 114,
   "metadata": {},
   "outputs": [
    {
     "name": "stdout",
     "output_type": "stream",
     "text": [
      "Pred Real\n",
      "1 -1\n",
      "1 -1\n",
      "1 -1\n",
      "1 -1\n",
      "1 -1\n",
      "1 1\n",
      "1 1\n",
      "1 1\n",
      "1 1\n",
      "1 1\n"
     ]
    }
   ],
   "source": [
    "B1, B2 = 0.7770591927567445 , -0.20196093440638\n",
    "pred = []\n",
    "for i , j in zip(X1, X2):        \n",
    "    if (i * B1 + j* B2) < 0:\n",
    "        pred.append(-1)\n",
    "    else:\n",
    "        pred.append(1)\n",
    "print(\"Pred\", \"Real\")\n",
    "for (i, j) in zip(pred, Y):\n",
    "    print(i, j)"
   ]
  },
  {
   "cell_type": "code",
   "execution_count": 107,
   "metadata": {},
   "outputs": [
    {
     "name": "stdout",
     "output_type": "stream",
     "text": [
      "Pred Real\n",
      "-1 -1\n",
      "-1 -1\n",
      "-1 -1\n",
      "-1 -1\n",
      "-1 -1\n",
      "1 1\n",
      "1 1\n",
      "1 1\n",
      "1 1\n",
      "1 1\n"
     ]
    }
   ],
   "source": [
    "B1, B2 = 0.8000699527087765 , -1.0354374014459966\n",
    "pred = []\n",
    "for i , j in zip(X1, X2):        \n",
    "    if (i * B1 + j* B2) < 0:\n",
    "        pred.append(-1)\n",
    "    else:\n",
    "        pred.append(1)\n",
    "print(\"Pred\", \"Real\")\n",
    "for (i, j) in zip(pred, Y):\n",
    "    print(i, j)"
   ]
  },
  {
   "cell_type": "code",
   "execution_count": null,
   "metadata": {},
   "outputs": [],
   "source": []
  },
  {
   "cell_type": "code",
   "execution_count": null,
   "metadata": {},
   "outputs": [],
   "source": []
  },
  {
   "cell_type": "code",
   "execution_count": null,
   "metadata": {},
   "outputs": [],
   "source": []
  },
  {
   "cell_type": "code",
   "execution_count": null,
   "metadata": {},
   "outputs": [],
   "source": []
  },
  {
   "cell_type": "code",
   "execution_count": null,
   "metadata": {},
   "outputs": [],
   "source": []
  }
 ],
 "metadata": {
  "kernelspec": {
   "display_name": "Python 3",
   "language": "python",
   "name": "python3"
  },
  "language_info": {
   "codemirror_mode": {
    "name": "ipython",
    "version": 3
   },
   "file_extension": ".py",
   "mimetype": "text/x-python",
   "name": "python",
   "nbconvert_exporter": "python",
   "pygments_lexer": "ipython3",
   "version": "3.7.4"
  }
 },
 "nbformat": 4,
 "nbformat_minor": 2
}
