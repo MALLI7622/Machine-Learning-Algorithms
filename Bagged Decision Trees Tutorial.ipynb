{
 "cells": [
  {
   "cell_type": "code",
   "execution_count": 1,
   "metadata": {},
   "outputs": [],
   "source": [
    "import seaborn as sns\n",
    "import matplotlib.pyplot as plt\n",
    "import numpy as np\n",
    "import statistics as stat\n"
   ]
  },
  {
   "cell_type": "code",
   "execution_count": 13,
   "metadata": {},
   "outputs": [],
   "source": [
    "X1 =[\n",
    "2.309572387,\n",
    "1.500958319,\n",
    "3.107545266,\n",
    "4.090032824,\n",
    "5.38660215,\n",
    "6.451823468,\n",
    "6.633669528,\n",
    "8.749958452,\n",
    "4.589131161,\n",
    "6.619322828 ]\n",
    "\n",
    "X2 = [\n",
    "1.168959634,\n",
    "2.535482186,\n",
    "2.162569456,\n",
    "3.123409313,\n",
    "2.109488166,\n",
    "0.242952387,\n",
    "2.749508563,\n",
    "2.676022211,\n",
    "0.925340325,\n",
    "3.831050828 ]\n",
    "\n",
    "Y = [\n",
    "0,\n",
    "0,\n",
    "0,\n",
    "0,\n",
    "0,\n",
    "1,\n",
    "1,\n",
    "1,\n",
    "1,\n",
    "1]"
   ]
  },
  {
   "cell_type": "code",
   "execution_count": 7,
   "metadata": {},
   "outputs": [
    {
     "data": {
      "image/png": "[encoded data removed]",
      "text/plain": [
       "<Figure size 432x288 with 1 Axes>"
      ]
     },
     "metadata": {},
     "output_type": "display_data"
    }
   ],
   "source": [
    "sns.scatterplot(X1, X2, hue = Y, style = Y)\n",
    "sns.set_style(\"darkgrid\")\n",
    "plt.show()"
   ]
  },
  {
   "cell_type": "code",
   "execution_count": 14,
   "metadata": {},
   "outputs": [],
   "source": [
    "x1_1 = 5.38660215\n",
    "x1_2 = 4.090032824\n",
    "x2_1 = 0.925340325"
   ]
  },
  {
   "cell_type": "code",
   "execution_count": 80,
   "metadata": {},
   "outputs": [],
   "source": [
    "def RandomForest(X1, X2, Y):\n",
    "    \n",
    "    tree_1 = []\n",
    "    tree_2 = []\n",
    "    tree_3 = []\n",
    "    pred = []\n",
    "    \n",
    "    accuracy = 0\n",
    "    for i, j in zip(X1, X2):\n",
    "\n",
    "        if x1_1 <= i:\n",
    "\n",
    "            tree_1.append(1)\n",
    "\n",
    "        else:\n",
    "            tree_1.append(0)\n",
    "\n",
    "\n",
    "    for i, j in zip(X1, X2):\n",
    "\n",
    "        if x1_2 <= i:\n",
    "\n",
    "            tree_2.append(1)\n",
    "\n",
    "        else:\n",
    "            tree_2.append(0)\n",
    "\n",
    "    for i, j in zip(X1, X2):\n",
    "\n",
    "        if x2_1 <= i:\n",
    "\n",
    "            tree_3.append(1)\n",
    "\n",
    "        else:\n",
    "            tree_3.append(0)\n",
    "\n",
    "    for (i, j, k, y) in zip(tree_1, tree_2, tree_3, Y):\n",
    "        \n",
    "        \n",
    "        pred.append(stat.mode([i, j , k]))\n",
    "        \n",
    "        print(stat.mode([i, j , k]), y)\n",
    "        \n",
    "        accuracy += (stat.mode([i, j , k])== y)\n",
    "        \n",
    "        \n",
    "    print(\"Accuracy\",accuracy/10 *100)\n",
    "    \n",
    "    #print(tree_1, tree_2, tree_3)\n",
    "    "
   ]
  },
  {
   "cell_type": "code",
   "execution_count": 81,
   "metadata": {},
   "outputs": [
    {
     "name": "stdout",
     "output_type": "stream",
     "text": [
      "0 0\n",
      "0 0\n",
      "0 0\n",
      "1 0\n",
      "1 0\n",
      "1 1\n",
      "1 1\n",
      "1 1\n",
      "1 1\n",
      "1 1\n",
      "Accuracy 80.0\n"
     ]
    }
   ],
   "source": [
    "RandomForest(X1, X2, Y)"
   ]
  },
  {
   "cell_type": "code",
   "execution_count": null,
   "metadata": {},
   "outputs": [],
   "source": []
  },
  {
   "cell_type": "code",
   "execution_count": null,
   "metadata": {},
   "outputs": [],
   "source": []
  },
  {
   "cell_type": "code",
   "execution_count": null,
   "metadata": {},
   "outputs": [],
   "source": []
  },
  {
   "cell_type": "code",
   "execution_count": null,
   "metadata": {},
   "outputs": [],
   "source": []
  },
  {
   "cell_type": "code",
   "execution_count": null,
   "metadata": {},
   "outputs": [],
   "source": []
  },
  {
   "cell_type": "code",
   "execution_count": null,
   "metadata": {},
   "outputs": [],
   "source": []
  }
 ],
 "metadata": {
  "kernelspec": {
   "display_name": "Python 3",
   "language": "python",
   "name": "python3"
  },
  "language_info": {
   "codemirror_mode": {
    "name": "ipython",
    "version": 3
   },
   "file_extension": ".py",
   "mimetype": "text/x-python",
   "name": "python",
   "nbconvert_exporter": "python",
   "pygments_lexer": "ipython3",
   "version": "3.7.4"
  }
 },
 "nbformat": 4,
 "nbformat_minor": 2
}
