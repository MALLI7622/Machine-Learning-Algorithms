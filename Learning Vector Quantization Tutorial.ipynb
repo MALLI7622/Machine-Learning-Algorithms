{
 "cells": [
  {
   "cell_type": "code",
   "execution_count": 16,
   "metadata": {},
   "outputs": [],
   "source": [
    "import numpy as np\n",
    "import matplotlib.pyplot as plt\n",
    "import seaborn as sns\n",
    "import statistics as stat\n",
    "import math"
   ]
  },
  {
   "cell_type": "code",
   "execution_count": 11,
   "metadata": {},
   "outputs": [],
   "source": [
    "X1 = [ 3.393533211, \n",
    "3.110073483, \n",
    "1.343808831, \n",
    "3.582294042, \n",
    "2.280362439, \n",
    "7.423436942, \n",
    "5.745051997, \n",
    "9.172168622, \n",
    "7.792783481, \n",
    "7.939820817]\n",
    "X2 =[\n",
    " 2.331273381,\n",
    " 1.781539638, \n",
    " 3.368360954, \n",
    " 4.67917911, \n",
    " 2.866990263, \n",
    " 4.696522875, \n",
    " 3.533989803, \n",
    " 2.511101045, \n",
    " 3.424088941, \n",
    " 0.791637231 ] \n",
    "\n",
    "Y = [0,\n",
    " 0,\n",
    " 0,\n",
    " 0,\n",
    " 0,\n",
    " 1,\n",
    " 1,\n",
    " 1,\n",
    " 1,\n",
    " 1]"
   ]
  },
  {
   "cell_type": "code",
   "execution_count": 12,
   "metadata": {},
   "outputs": [
    {
     "data": {
      "image/png": "[encoded data removed]",
      "text/plain": [
       "<Figure size 432x288 with 1 Axes>"
      ]
     },
     "metadata": {},
     "output_type": "display_data"
    }
   ],
   "source": [
    "sns.scatterplot(X1, X2, hue = Y, style = Y)\n",
    "sns.set_style(\"darkgrid\")\n",
    "plt.show()"
   ]
  },
  {
   "cell_type": "code",
   "execution_count": 104,
   "metadata": {},
   "outputs": [
    {
     "name": "stdout",
     "output_type": "stream",
     "text": [
      "3.3935332110065817 2.331273380946316\n",
      "7.792783481 2.331273381\n",
      "7.939820817 2.866990263\n",
      "3.393533211 4.67917911\n"
     ]
    }
   ],
   "source": [
    "\n",
    "\n",
    "C1 = [\n",
    "3.582294042, \n",
    "7.792783481, \n",
    "7.939820817, \n",
    "3.393533211 ]\n",
    "\n",
    "C2 = [\n",
    "0.791637231, \n",
    "2.331273381, \n",
    "2.866990263, \n",
    "4.67917911 ]\n",
    "\n",
    "y = [0, 0, 1, 1]\n",
    "\n",
    "def LVQ():\n",
    "assume_Y = y\n",
    "alpha = 0.7\n",
    "\n",
    "x, y = X1[0], X2[0]\n",
    "C_y = Y[0]\n",
    "\n",
    "epochs = 20\n",
    "\n",
    "for i in range(epochs):\n",
    "    \n",
    "    euclidean_distance = []\n",
    "\n",
    "    for (i, j) in zip(C1, C2):\n",
    "            euclidean_distance.append(math.sqrt((i-x)**2 + (j-y)**2))\n",
    "\n",
    "    BMU, index = min(euclidean_distance), euclidean_distance.index(min(euclidean_distance))\n",
    "\n",
    "    #print(BMU, index, assume_Y[index])\n",
    "\n",
    "\n",
    "    if assume_Y[index] == C_y:\n",
    "        C1[index] = C1[index] + alpha * ( x - C1[index])\n",
    "        C2[index] = C2[index] + alpha * ( y - C2[index])\n",
    "    else:\n",
    "        C1[index] = C1[index] + alpha * ( x - C1[index])\n",
    "        C2[index] = C2[index] + alpha * ( y - C2[index])\n",
    "    \n",
    "for (i, j) in zip(C1, C2):\n",
    "    print(i,j)"
   ]
  },
  {
   "cell_type": "code",
   "execution_count": 117,
   "metadata": {},
   "outputs": [],
   "source": [
    "def Predict(x, y):\n",
    "    euclidean_distance = []\n",
    "    for (i,j) in zip(C1, C2):\n",
    "\n",
    "        euclidean_distance.append(math.sqrt((i-x)**2 + (j-y)**2))\n",
    "    \n",
    "    print(euclidean_distance)\n",
    "\n",
    "    print(\"Predicted:\",assume_Y[euclidean_distance.index(min(euclidean_distance))])\n"
   ]
  },
  {
   "cell_type": "code",
   "execution_count": 119,
   "metadata": {},
   "outputs": [
    {
     "name": "stdout",
     "output_type": "stream",
     "text": [
      "[3.114937770066126, 3.8628669843402124, 3.6321174229646487, 1.6381885079624883]\n",
      "Predicted: 1\n"
     ]
    }
   ],
   "source": [
    "Predict(5, 5)"
   ]
  },
  {
   "cell_type": "code",
   "execution_count": 120,
   "metadata": {},
   "outputs": [
    {
     "name": "stdout",
     "output_type": "stream",
     "text": [
      "[2.7388483066806955, 6.922008107096209, 7.186568417137859, 4.38923229683966]\n",
      "Predicted: 0\n"
     ]
    }
   ],
   "source": [
    "Predict(1, 1)"
   ]
  },
  {
   "cell_type": "code",
   "execution_count": null,
   "metadata": {},
   "outputs": [],
   "source": []
  },
  {
   "cell_type": "code",
   "execution_count": null,
   "metadata": {},
   "outputs": [],
   "source": []
  },
  {
   "cell_type": "code",
   "execution_count": null,
   "metadata": {},
   "outputs": [],
   "source": []
  },
  {
   "cell_type": "code",
   "execution_count": null,
   "metadata": {},
   "outputs": [],
   "source": []
  },
  {
   "cell_type": "code",
   "execution_count": null,
   "metadata": {},
   "outputs": [],
   "source": []
  },
  {
   "cell_type": "code",
   "execution_count": null,
   "metadata": {},
   "outputs": [],
   "source": []
  },
  {
   "cell_type": "code",
   "execution_count": null,
   "metadata": {},
   "outputs": [],
   "source": []
  }
 ],
 "metadata": {
  "kernelspec": {
   "display_name": "Python 3",
   "language": "python",
   "name": "python3"
  },
  "language_info": {
   "codemirror_mode": {
    "name": "ipython",
    "version": 3
   },
   "file_extension": ".py",
   "mimetype": "text/x-python",
   "name": "python",
   "nbconvert_exporter": "python",
   "pygments_lexer": "ipython3",
   "version": "3.7.4"
  }
 },
 "nbformat": 4,
 "nbformat_minor": 2
}
