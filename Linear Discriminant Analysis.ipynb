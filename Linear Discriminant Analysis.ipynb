{
 "cells": [
  {
   "cell_type": "code",
   "execution_count": 1,
   "metadata": {},
   "outputs": [],
   "source": [
    "import numpy as np\n",
    "import matplotlib.pyplot as plt\n",
    "import seaborn as sns\n",
    "import statistics as stat"
   ]
  },
  {
   "cell_type": "code",
   "execution_count": 2,
   "metadata": {},
   "outputs": [],
   "source": [
    "X = [4.667797637, 5.509198779, 4.702791608, 5.956706641, 5.738622413, 5.027283325, 4.805434058, 4.425689143, 5.009368635,\n",
    "    5.116718815, 6.370917709, 2.895041947, 4.666842365, 5.602154638, 4.902797978, 5.032652964, 4.083972925, 4.875524106, \n",
    "    4.732801047, 5.385993407, 20.74393514, 21.41752855, 20.57924186, 20.7386947, 19.44605384, 18.36360265, 19.90363232, \n",
    "    19.10870851, 18.18787593, 19.71767611, 19.09629027, 20.52741312, 20.63205608, 19.86218119, 21.34670569, 20.333906, \n",
    "    21.02714855, 18.27536089, 21.77371156, 20.65953546 ]\n",
    "Y = [0, 0, 0, 0, 0, 0, 0, 0, 0, 0, 0, 0, 0, 0, 0, 0, 0, 0, 0, 0, 1, 1, 1, 1, 1, 1, 1, 1, 1, 1, 1, 1, 1, 1, 1, 1, 1, 1,\n",
    "     1, 1]"
   ]
  },
  {
   "cell_type": "code",
   "execution_count": 4,
   "metadata": {},
   "outputs": [
    {
     "data": {
      "image/png": "[encoded data removed]",
      "text/plain": [
       "<Figure size 432x288 with 1 Axes>"
      ]
     },
     "metadata": {},
     "output_type": "display_data"
    }
   ],
   "source": [
    "sns.scatterplot(X,Y, hue = Y, style = Y)\n",
    "#sns.set()\n",
    "sns.set_style(\"darkgrid\")\n",
    "plt.show()"
   ]
  },
  {
   "cell_type": "code",
   "execution_count": 50,
   "metadata": {},
   "outputs": [],
   "source": [
    "def LinearDescriminantAnalysis(X, Y):\n",
    "        \n",
    "    sum_0 = []\n",
    "    sum_1 = []\n",
    "    for i, j in zip(X, Y):\n",
    "        if j == 0:\n",
    "            sum_0.append(i)\n",
    "        else:\n",
    "            sum_1.append(i)\n",
    "    \n",
    "    class_0 = Y.count(0) / Y.count(0) + Y.count(1)\n",
    "    class_1 = Y.count(1) / Y.count(0) + Y.count(1)\n",
    "    \n",
    "    mean_0 = stat.mean(sum_0)\n",
    "    mean_1 = stat.mean(sum_1)\n",
    "    \n",
    "    denominator = 1 / (len(X) - len(list(set(Y))))\n",
    "    \n",
    "    numerator = 0\n",
    "    \n",
    "    for i, j in zip(X, Y):\n",
    "        \n",
    "        if j == 0:\n",
    "            numerator += (i - mean_0) ** 2\n",
    "        else:\n",
    "            numerator += (i - mean_1) ** 2\n",
    "    \n",
    "    \n",
    "    variance = denominator*numerator    \n",
    "    \n",
    "    descriminant_0 = []\n",
    "    descriminant_1 = []\n",
    "    \n",
    "    for i in X:\n",
    "        \n",
    "        descriminant_0.append(i * (mean_0 / variance) - (mean_0**2 / 2*variance) + class_0)\n",
    "        descriminant_1.append(i * (mean_1 / variance) - mean_1**2 / 2*variance + class_1)\n",
    "    \n",
    "    \n",
    "    #print(descriminant_0)\n",
    "    #print(descriminant_1)\n",
    "    \n",
    "    i = 4.667797637\n",
    "    print(i * (mean_0 / variance) - (mean_0**2 / 2*variance) + class_0)\n",
    "    \n",
    "    for i, j in zip(descriminant_0, descriminant_1):\n",
    "        print(i, j)\n"
   ]
  },
  {
   "cell_type": "code",
   "execution_count": 51,
   "metadata": {},
   "outputs": [
    {
     "name": "stdout",
     "output_type": "stream",
     "text": [
      "38.573014520783474\n",
      "38.573014520783474 -34.470713072551774\n",
      "43.59902237488443 -14.179395520333912\n",
      "38.78204676986519 -33.6267948241331\n",
      "46.272156409190174 -3.387249323132693\n",
      "44.969456676482245 -8.646591273821741\n",
      "40.72035875546112 -25.80131878893252\n",
      "39.39516901811639 -31.15145881218406\n",
      "37.126808743719586 -40.30942672364786\n",
      "40.6133475236606 -26.233351318357748\n",
      "41.2545908271064 -23.644483199531578\n",
      "48.7463960757481 6.601907922902171\n",
      "27.983673032413897 -77.22267388257292\n",
      "38.567308319145354 -34.49375051157243\n",
      "44.15428294454348 -11.937662345566991\n",
      "39.97676060647919 -28.80342037934733\n",
      "40.75243364393053 -25.67182401568941\n",
      "35.08560828675412 -48.55029061848303\n",
      "39.81384343410893 -29.46115991641885\n",
      "38.961304520517444 -32.90308406844589\n",
      "42.86307000159964 -17.150629100370026\n",
      "134.60187557227562 353.223092893891\n",
      "138.62550425559706 369.46754170804684\n",
      "133.6181002034544 349.2513326045565\n",
      "134.57057243839068 353.09671389718494\n",
      "126.84913875998025 321.9232523198866\n",
      "120.38324762785136 295.8187467105204\n",
      "129.58242841166884 332.95826258938905\n",
      "124.83404727330351 313.7877972151824\n",
      "119.33356534099823 291.5809028332777\n",
      "128.47164150477533 328.4737232661504\n",
      "124.75986842012803 313.48831764628073\n",
      "133.3085074999206 348.0014253139964\n",
      "133.933579552457 350.52500583341066\n",
      "129.33482510506275 331.9586228221682\n",
      "138.20245247584336 367.7595702417849\n",
      "132.15261614632362 343.3347874589516\n",
      "136.29361658853242 360.0530969793341\n",
      "119.85614615783733 293.69069923809786\n",
      "140.7531203430938 378.05728826512336\n",
      "134.0977243019846 351.1877014228089\n"
     ]
    }
   ],
   "source": [
    "LinearDescriminantAnalysis(X, Y)"
   ]
  },
  {
   "cell_type": "code",
   "execution_count": null,
   "metadata": {},
   "outputs": [],
   "source": []
  },
  {
   "cell_type": "code",
   "execution_count": null,
   "metadata": {},
   "outputs": [],
   "source": []
  },
  {
   "cell_type": "code",
   "execution_count": null,
   "metadata": {},
   "outputs": [],
   "source": []
  },
  {
   "cell_type": "code",
   "execution_count": null,
   "metadata": {},
   "outputs": [],
   "source": []
  }
 ],
 "metadata": {
  "kernelspec": {
   "display_name": "Python 3",
   "language": "python",
   "name": "python3"
  },
  "language_info": {
   "codemirror_mode": {
    "name": "ipython",
    "version": 3
   },
   "file_extension": ".py",
   "mimetype": "text/x-python",
   "name": "python",
   "nbconvert_exporter": "python",
   "pygments_lexer": "ipython3",
   "version": "3.7.4"
  }
 },
 "nbformat": 4,
 "nbformat_minor": 2
}
